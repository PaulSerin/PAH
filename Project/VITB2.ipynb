{
 "cells": [
  {
   "cell_type": "markdown",
   "metadata": {},
   "source": [
    "## FINETUNING da la derniere couche"
   ]
  },
  {
   "cell_type": "code",
   "execution_count": null,
   "metadata": {},
   "outputs": [
    {
     "name": "stderr",
     "output_type": "stream",
     "text": [
      "2025-03-27 16:03:44.063703: I tensorflow/core/util/port.cc:153] oneDNN custom operations are on. You may see slightly different numerical results due to floating-point round-off errors from different computation orders. To turn them off, set the environment variable `TF_ENABLE_ONEDNN_OPTS=0`.\n",
      "2025-03-27 16:03:45.193078: E external/local_xla/xla/stream_executor/cuda/cuda_fft.cc:485] Unable to register cuFFT factory: Attempting to register factory for plugin cuFFT when one has already been registered\n",
      "2025-03-27 16:03:45.508177: E external/local_xla/xla/stream_executor/cuda/cuda_dnn.cc:8454] Unable to register cuDNN factory: Attempting to register factory for plugin cuDNN when one has already been registered\n",
      "2025-03-27 16:03:45.593904: E external/local_xla/xla/stream_executor/cuda/cuda_blas.cc:1452] Unable to register cuBLAS factory: Attempting to register factory for plugin cuBLAS when one has already been registered\n",
      "2025-03-27 16:03:46.378959: I tensorflow/core/platform/cpu_feature_guard.cc:210] This TensorFlow binary is optimized to use available CPU instructions in performance-critical operations.\n",
      "To enable the following instructions: AVX2 AVX512F AVX512_VNNI FMA, in other operations, rebuild TensorFlow with the appropriate compiler flags.\n",
      "2025-03-27 16:03:49.180109: W tensorflow/compiler/tf2tensorrt/utils/py_utils.cc:38] TF-TRT Warning: Could not find TensorRT\n"
     ]
    },
    {
     "name": "stdout",
     "output_type": "stream",
     "text": [
      "Files already downloaded and verified\n",
      "Files already downloaded and verified\n"
     ]
    },
    {
     "name": "stderr",
     "output_type": "stream",
     "text": [
      "Epoch 1/5: 100%|██████████████████████████████████████████████████████████████████████████████████████████████████████████████████████| 782/782 [03:50<00:00,  3.40it/s]\n"
     ]
    },
    {
     "name": "stdout",
     "output_type": "stream",
     "text": [
      "Epoch 1/5 - Loss moyenne: 0.1513\n"
     ]
    },
    {
     "name": "stderr",
     "output_type": "stream",
     "text": [
      "Epoch 2/5: 100%|██████████████████████████████████████████████████████████████████████████████████████████████████████████████████████| 782/782 [03:47<00:00,  3.44it/s]\n"
     ]
    },
    {
     "name": "stdout",
     "output_type": "stream",
     "text": [
      "Epoch 2/5 - Loss moyenne: 0.0567\n"
     ]
    },
    {
     "name": "stderr",
     "output_type": "stream",
     "text": [
      "Epoch 3/5: 100%|██████████████████████████████████████████████████████████████████████████████████████████████████████████████████████| 782/782 [03:47<00:00,  3.43it/s]\n"
     ]
    },
    {
     "name": "stdout",
     "output_type": "stream",
     "text": [
      "Epoch 3/5 - Loss moyenne: 0.0419\n"
     ]
    },
    {
     "name": "stderr",
     "output_type": "stream",
     "text": [
      "Epoch 4/5:   1%|█▍                                                                                                                      | 9/782 [00:02<03:45,  3.44it/s]"
     ]
    }
   ],
   "source": [
    "# import torch\n",
    "# from torch import nn, optim\n",
    "# from torchvision import datasets, transforms\n",
    "# from torch.utils.data import DataLoader, random_split\n",
    "# from transformers import ViTForImageClassification, ViTImageProcessor\n",
    "# from tqdm import tqdm\n",
    "# import matplotlib.pyplot as plt\n",
    "# import os\n",
    "\n",
    "# # Fonction de collate personnalisée\n",
    "# def custom_collate_fn(batch):\n",
    "#     images, labels = zip(*batch)\n",
    "#     return list(images), torch.tensor(labels)\n",
    "\n",
    "# # Fonction pour obtenir la taille du modèle\n",
    "# def get_model_size(model, temp_path=\"temp_model.pth\"):\n",
    "#     torch.save(model.state_dict(), temp_path)\n",
    "#     size_mb = os.path.getsize(temp_path) / 1e6\n",
    "#     os.remove(temp_path)\n",
    "#     return size_mb\n",
    "\n",
    "\n",
    "# device = torch.device(\"cuda\" if torch.cuda.is_available() else \"cpu\")\n",
    "\n",
    "# # Dataset CIFAR-10\n",
    "# transform = transforms.Resize((224, 224))\n",
    "# train_dataset = datasets.CIFAR10(root='./data', train=True, download=True, transform=transform)\n",
    "# test_dataset  = datasets.CIFAR10(root='./data', train=False, download=True, transform=transform)\n",
    "\n",
    "# # Réduire le train set\n",
    "# train_size = int(0.5 * len(train_dataset))\n",
    "# train_subset, _ = random_split(train_dataset, [train_size, len(train_dataset) - train_size])\n",
    "\n",
    "# train_loader = DataLoader(train_subset, batch_size=32, shuffle=True, collate_fn=custom_collate_fn)\n",
    "# test_loader  = DataLoader(test_dataset, batch_size=32, shuffle=False, collate_fn=custom_collate_fn)\n",
    "\n",
    "# # Charger ViT\n",
    "# processor = ViTImageProcessor.from_pretrained('google/vit-base-patch16-224')\n",
    "# model = ViTForImageClassification.from_pretrained('google/vit-base-patch16-224')\n",
    "# model.classifier = nn.Linear(model.config.hidden_size, 10)  # 10 classes pour CIFAR-10\n",
    "# model.to(device)\n",
    "\n",
    "# # Optimiseur et loss\n",
    "# optimizer = optim.Adam(model.parameters(), lr=1e-4)\n",
    "# criterion = nn.CrossEntropyLoss()\n",
    "\n",
    "# # Entraînement\n",
    "# epochs = 5\n",
    "# losses = []\n",
    "\n",
    "# for epoch in range(epochs):\n",
    "#     model.train()\n",
    "#     running_loss = 0.0\n",
    "#     for images, labels in tqdm(train_loader, desc=f\"Epoch {epoch+1}/{epochs}\"):\n",
    "#         inputs = processor(images=images, return_tensors=\"pt\").to(device)\n",
    "#         labels = labels.to(device)\n",
    "\n",
    "#         optimizer.zero_grad()\n",
    "#         outputs = model(**inputs)\n",
    "#         loss = criterion(outputs.logits, labels)\n",
    "#         loss.backward()\n",
    "#         optimizer.step()\n",
    "#         running_loss += loss.item()\n",
    "\n",
    "#     epoch_loss = running_loss / len(train_loader)\n",
    "#     losses.append(epoch_loss)\n",
    "#     print(f\"Epoch {epoch+1}/{epochs} - Loss moyenne: {epoch_loss:.4f}\")\n",
    "\n",
    "# # Évaluation\n",
    "# model.eval()\n",
    "# correct = 0\n",
    "# total = 0\n",
    "# with torch.no_grad():\n",
    "#     for images, labels in tqdm(test_loader, desc=\"Evaluation\"):\n",
    "#         inputs = processor(images=images, return_tensors=\"pt\").to(device)\n",
    "#         outputs = model(**inputs)\n",
    "#         preds = outputs.logits.argmax(dim=1)\n",
    "#         correct += (preds == labels.to(device)).sum().item()\n",
    "#         total += labels.size(0)\n",
    "\n",
    "# accuracy = 100 * correct / total\n",
    "# print(f\"\\nAccuracy sur CIFAR-10 : {accuracy:.2f}%\")\n",
    "\n",
    "# # Plot des pertes\n",
    "# plt.figure(figsize=(8, 5))\n",
    "# plt.plot(range(1, len(losses)+1), losses, marker='o')\n",
    "# plt.title(\"Courbe de perte durant le fine-tuning de la tête\")\n",
    "# plt.xlabel(\"Époch\")\n",
    "# plt.ylabel(\"Loss\")\n",
    "# plt.grid(True)\n",
    "# plt.tight_layout()\n",
    "# plt.savefig(os.path.join(save_path, \"loss_curve.png\"))  # sauvegarde en image\n",
    "# plt.show()\n",
    "\n",
    "# # Taille du modèle\n",
    "# model_size = get_model_size(model)\n",
    "# print(f\"Taille du modèle : {model_size:.2f} MB\")"
   ]
  },
  {
   "cell_type": "markdown",
   "metadata": {},
   "source": [
    "## Enregistrer le modele head finetuned"
   ]
  },
  {
   "cell_type": "code",
   "execution_count": 2,
   "metadata": {},
   "outputs": [],
   "source": [
    "# torch.save(model.state_dict(), \"saved_models/vit_head_finetuned_full.pth\")\n"
   ]
  },
  {
   "cell_type": "markdown",
   "metadata": {},
   "source": [
    "## Réutiliser le modele depuis save dir"
   ]
  },
  {
   "cell_type": "code",
   "execution_count": null,
   "metadata": {},
   "outputs": [
    {
     "name": "stderr",
     "output_type": "stream",
     "text": [
      "/scratch/11424982/ipykernel_2334467/3874483511.py:6: FutureWarning: You are using `torch.load` with `weights_only=False` (the current default value), which uses the default pickle module implicitly. It is possible to construct malicious pickle data which will execute arbitrary code during unpickling (See https://github.com/pytorch/pytorch/blob/main/SECURITY.md#untrusted-models for more details). In a future release, the default value for `weights_only` will be flipped to `True`. This limits the functions that could be executed during unpickling. Arbitrary objects will no longer be allowed to be loaded via this mode unless they are explicitly allowlisted by the user via `torch.serialization.add_safe_globals`. We recommend you start setting `weights_only=True` for any use case where you don't have full control of the loaded file. Please open an issue on GitHub for any issues related to this experimental feature.\n",
      "  state_dict = torch.load(\"saved_models/vit_head_finetuned_full.pth\")\n"
     ]
    },
    {
     "data": {
      "text/plain": [
       "ViTForImageClassification(\n",
       "  (vit): ViTModel(\n",
       "    (embeddings): ViTEmbeddings(\n",
       "      (patch_embeddings): ViTPatchEmbeddings(\n",
       "        (projection): Conv2d(3, 768, kernel_size=(16, 16), stride=(16, 16))\n",
       "      )\n",
       "      (dropout): Dropout(p=0.0, inplace=False)\n",
       "    )\n",
       "    (encoder): ViTEncoder(\n",
       "      (layer): ModuleList(\n",
       "        (0-11): 12 x ViTLayer(\n",
       "          (attention): ViTSdpaAttention(\n",
       "            (attention): ViTSdpaSelfAttention(\n",
       "              (query): Linear(in_features=768, out_features=768, bias=True)\n",
       "              (key): Linear(in_features=768, out_features=768, bias=True)\n",
       "              (value): Linear(in_features=768, out_features=768, bias=True)\n",
       "              (dropout): Dropout(p=0.0, inplace=False)\n",
       "            )\n",
       "            (output): ViTSelfOutput(\n",
       "              (dense): Linear(in_features=768, out_features=768, bias=True)\n",
       "              (dropout): Dropout(p=0.0, inplace=False)\n",
       "            )\n",
       "          )\n",
       "          (intermediate): ViTIntermediate(\n",
       "            (dense): Linear(in_features=768, out_features=3072, bias=True)\n",
       "            (intermediate_act_fn): GELUActivation()\n",
       "          )\n",
       "          (output): ViTOutput(\n",
       "            (dense): Linear(in_features=3072, out_features=768, bias=True)\n",
       "            (dropout): Dropout(p=0.0, inplace=False)\n",
       "          )\n",
       "          (layernorm_before): LayerNorm((768,), eps=1e-12, elementwise_affine=True)\n",
       "          (layernorm_after): LayerNorm((768,), eps=1e-12, elementwise_affine=True)\n",
       "        )\n",
       "      )\n",
       "    )\n",
       "    (layernorm): LayerNorm((768,), eps=1e-12, elementwise_affine=True)\n",
       "  )\n",
       "  (classifier): Linear(in_features=768, out_features=10, bias=True)\n",
       ")"
      ]
     },
     "metadata": {},
     "output_type": "display_data"
    }
   ],
   "source": [
    "# # Recharger l'architecture du modèle\n",
    "# model = ViTForImageClassification.from_pretrained('google/vit-base-patch16-224')\n",
    "# model.classifier = torch.nn.Linear(model.config.hidden_size, 10)  # Adapter à CIFAR-10\n",
    "\n",
    "# # Charger les poids\n",
    "# state_dict = torch.load(\"saved_models/vit_head_finetuned_full.pth\")\n",
    "# model.load_state_dict(state_dict)\n",
    "# model.to(device).eval()"
   ]
  },
  {
   "cell_type": "markdown",
   "metadata": {},
   "source": [
    "## Taille du modèle"
   ]
  },
  {
   "cell_type": "code",
   "execution_count": null,
   "metadata": {},
   "outputs": [
    {
     "name": "stdout",
     "output_type": "stream",
     "text": [
      "Taille du modèle : 343.31 MB\n"
     ]
    }
   ],
   "source": [
    "# # Fonction pour afficher la taille\n",
    "# def get_model_size(model, temp_path=\"temp_model.pth\"):\n",
    "#     torch.save(model.state_dict(), temp_path)\n",
    "#     size_mb = os.path.getsize(temp_path) / 1e6\n",
    "#     os.remove(temp_path)\n",
    "#     return size_mb\n",
    "\n",
    "# # Affichage\n",
    "# model_size = get_model_size(model)\n",
    "# print(f\"Taille du modèle : {model_size:.2f} MB\")"
   ]
  },
  {
   "cell_type": "markdown",
   "metadata": {},
   "source": [
    "## FINETUNING des 3 dernieres couches"
   ]
  },
  {
   "cell_type": "code",
   "execution_count": 1,
   "metadata": {},
   "outputs": [
    {
     "name": "stderr",
     "output_type": "stream",
     "text": [
      "2025-03-28 10:57:05.119159: I tensorflow/core/util/port.cc:153] oneDNN custom operations are on. You may see slightly different numerical results due to floating-point round-off errors from different computation orders. To turn them off, set the environment variable `TF_ENABLE_ONEDNN_OPTS=0`.\n",
      "2025-03-28 10:57:07.611838: E external/local_xla/xla/stream_executor/cuda/cuda_fft.cc:485] Unable to register cuFFT factory: Attempting to register factory for plugin cuFFT when one has already been registered\n",
      "2025-03-28 10:57:08.053018: E external/local_xla/xla/stream_executor/cuda/cuda_dnn.cc:8454] Unable to register cuDNN factory: Attempting to register factory for plugin cuDNN when one has already been registered\n",
      "2025-03-28 10:57:08.230540: E external/local_xla/xla/stream_executor/cuda/cuda_blas.cc:1452] Unable to register cuBLAS factory: Attempting to register factory for plugin cuBLAS when one has already been registered\n",
      "2025-03-28 10:57:10.390939: I tensorflow/core/platform/cpu_feature_guard.cc:210] This TensorFlow binary is optimized to use available CPU instructions in performance-critical operations.\n",
      "To enable the following instructions: AVX2 AVX512F AVX512_VNNI FMA, in other operations, rebuild TensorFlow with the appropriate compiler flags.\n",
      "2025-03-28 10:57:13.715030: W tensorflow/compiler/tf2tensorrt/utils/py_utils.cc:38] TF-TRT Warning: Could not find TensorRT\n"
     ]
    },
    {
     "name": "stdout",
     "output_type": "stream",
     "text": [
      "Files already downloaded and verified\n",
      "Files already downloaded and verified\n"
     ]
    },
    {
     "name": "stderr",
     "output_type": "stream",
     "text": [
      "Epoch 1/5: 100%|█████████████████████████████████████████████████████████████████████████████████████████████████████████████████████████████████████| 782/782 [02:02<00:00,  6.38it/s]\n"
     ]
    },
    {
     "name": "stdout",
     "output_type": "stream",
     "text": [
      "Epoch 1/5 - Loss moyenne: 0.1438\n"
     ]
    },
    {
     "name": "stderr",
     "output_type": "stream",
     "text": [
      "Epoch 2/5: 100%|█████████████████████████████████████████████████████████████████████████████████████████████████████████████████████████████████████| 782/782 [02:01<00:00,  6.45it/s]\n"
     ]
    },
    {
     "name": "stdout",
     "output_type": "stream",
     "text": [
      "Epoch 2/5 - Loss moyenne: 0.0296\n"
     ]
    },
    {
     "name": "stderr",
     "output_type": "stream",
     "text": [
      "Epoch 3/5: 100%|█████████████████████████████████████████████████████████████████████████████████████████████████████████████████████████████████████| 782/782 [02:00<00:00,  6.47it/s]\n"
     ]
    },
    {
     "name": "stdout",
     "output_type": "stream",
     "text": [
      "Epoch 3/5 - Loss moyenne: 0.0077\n"
     ]
    },
    {
     "name": "stderr",
     "output_type": "stream",
     "text": [
      "Epoch 4/5: 100%|█████████████████████████████████████████████████████████████████████████████████████████████████████████████████████████████████████| 782/782 [02:00<00:00,  6.47it/s]\n"
     ]
    },
    {
     "name": "stdout",
     "output_type": "stream",
     "text": [
      "Epoch 4/5 - Loss moyenne: 0.0023\n"
     ]
    },
    {
     "name": "stderr",
     "output_type": "stream",
     "text": [
      "Epoch 5/5: 100%|█████████████████████████████████████████████████████████████████████████████████████████████████████████████████████████████████████| 782/782 [02:01<00:00,  6.45it/s]\n"
     ]
    },
    {
     "name": "stdout",
     "output_type": "stream",
     "text": [
      "Epoch 5/5 - Loss moyenne: 0.0023\n"
     ]
    },
    {
     "name": "stderr",
     "output_type": "stream",
     "text": [
      "Evaluation: 100%|████████████████████████████████████████████████████████████████████████████████████████████████████████████████████████████████████| 313/313 [00:39<00:00,  7.91it/s]\n"
     ]
    },
    {
     "name": "stdout",
     "output_type": "stream",
     "text": [
      "Accuracy sur CIFAR-10: 97.63%\n"
     ]
    },
    {
     "data": {
      "image/png": "[encoded data removed]",
      "text/plain": [
       "<Figure size 800x500 with 1 Axes>"
      ]
     },
     "metadata": {},
     "output_type": "display_data"
    },
    {
     "name": "stdout",
     "output_type": "stream",
     "text": [
      "Taille du modèle sauvegardé : 343.31 MB\n"
     ]
    }
   ],
   "source": [
    "import torch\n",
    "from torch import nn, optim\n",
    "from torchvision import datasets, transforms\n",
    "from torch.utils.data import DataLoader, random_split\n",
    "from transformers import ViTForImageClassification, ViTImageProcessor\n",
    "from tqdm import tqdm\n",
    "import matplotlib.pyplot as plt\n",
    "import os\n",
    "\n",
    "# Fonction de collate personnalisée\n",
    "def custom_collate_fn(batch):\n",
    "    images, labels = zip(*batch)\n",
    "    return list(images), torch.tensor(labels)\n",
    "\n",
    "# Fonction utilitaire pour mesurer la taille du modèle\n",
    "def get_model_size(model, temp_path=\"temp_model.pth\"):\n",
    "    torch.save(model.state_dict(), temp_path)\n",
    "    size_mb = os.path.getsize(temp_path) / 1e6\n",
    "    os.remove(temp_path)\n",
    "    return size_mb\n",
    "\n",
    "device = torch.device(\"cuda\" if torch.cuda.is_available() else \"cpu\")\n",
    "\n",
    "# Dataset CIFAR-10\n",
    "transform = transforms.Resize((224, 224))\n",
    "train_dataset = datasets.CIFAR10(root='./data', train=True, download=True, transform=transform)\n",
    "test_dataset  = datasets.CIFAR10(root='./data', train=False, download=True, transform=transform)\n",
    "\n",
    "# Réduction du dataset\n",
    "total_train = len(train_dataset)\n",
    "train_size = int(0.5 * total_train)\n",
    "train_subset, _ = random_split(train_dataset, [train_size, total_train - train_size])\n",
    "\n",
    "train_loader = DataLoader(train_subset, batch_size=32, shuffle=True, collate_fn=custom_collate_fn)\n",
    "test_loader  = DataLoader(test_dataset, batch_size=32, shuffle=False, collate_fn=custom_collate_fn)\n",
    "\n",
    "# Modèle ViT\n",
    "processor = ViTImageProcessor.from_pretrained('google/vit-base-patch16-224')\n",
    "model = ViTForImageClassification.from_pretrained('google/vit-base-patch16-224')\n",
    "model.classifier = nn.Linear(model.config.hidden_size, 10)\n",
    "\n",
    "# Geler le backbone\n",
    "for param in model.vit.parameters():\n",
    "    param.requires_grad = False\n",
    "\n",
    "# Unfreeze les 2 derniers blocs\n",
    "for layer in model.vit.encoder.layer[-2:]:\n",
    "    for param in layer.parameters():\n",
    "        param.requires_grad = True\n",
    "\n",
    "model.to(device)\n",
    "\n",
    "optimizer = optim.Adam(filter(lambda p: p.requires_grad, model.parameters()), lr=1e-4)\n",
    "criterion = nn.CrossEntropyLoss()\n",
    "\n",
    "# ➤ Enregistrement des pertes\n",
    "losses = []\n",
    "\n",
    "# Entraînement\n",
    "epochs = 5\n",
    "for epoch in range(epochs):\n",
    "    model.train()\n",
    "    running_loss = 0.0\n",
    "    for images, labels in tqdm(train_loader, desc=f\"Epoch {epoch+1}/{epochs}\"):\n",
    "        inputs = processor(images=images, return_tensors=\"pt\").to(device)\n",
    "        labels = labels.to(device)\n",
    "        \n",
    "        optimizer.zero_grad()\n",
    "        outputs = model(**inputs)\n",
    "        loss = criterion(outputs.logits, labels)\n",
    "        loss.backward()\n",
    "        optimizer.step()\n",
    "        running_loss += loss.item()\n",
    "\n",
    "    epoch_loss = running_loss / len(train_loader)\n",
    "    losses.append(epoch_loss)\n",
    "    print(f\"Epoch {epoch+1}/{epochs} - Loss moyenne: {epoch_loss:.4f}\")\n",
    "\n",
    "# Évaluation\n",
    "model.eval()\n",
    "correct = 0\n",
    "total = 0\n",
    "with torch.no_grad():\n",
    "    for images, labels in tqdm(test_loader, desc=\"Evaluation\"):\n",
    "        inputs = processor(images=images, return_tensors=\"pt\").to(device)\n",
    "        outputs = model(**inputs)\n",
    "        preds = outputs.logits.argmax(dim=1)\n",
    "        correct += (preds == labels.to(device)).sum().item()\n",
    "        total += labels.size(0)\n",
    "\n",
    "accuracy = 100 * correct / total\n",
    "print(f\"Accuracy sur CIFAR-10: {accuracy:.2f}%\")\n",
    "\n",
    "# ➤ Afficher la courbe de loss\n",
    "plt.figure(figsize=(8, 5))\n",
    "plt.plot(range(1, len(losses)+1), losses, marker='o')\n",
    "plt.title(\"Courbe de perte durant l'entraînement\")\n",
    "plt.xlabel(\"Epoch\")\n",
    "plt.ylabel(\"Loss\")\n",
    "plt.grid(True)\n",
    "plt.tight_layout()\n",
    "plt.show()\n",
    "\n",
    "size_mb = get_model_size(model)\n",
    "print(f\"Taille du modèle sauvegardé : {size_mb:.2f} MB\")"
   ]
  },
  {
   "cell_type": "markdown",
   "metadata": {},
   "source": [
    "## Enregistrer le modele head finetuned"
   ]
  },
  {
   "cell_type": "code",
   "execution_count": 3,
   "metadata": {},
   "outputs": [
    {
     "name": "stdout",
     "output_type": "stream",
     "text": [
      "Modèle et processor sauvegardés dans : saved_models/vit_finetuned_hf\n"
     ]
    }
   ],
   "source": [
    "from transformers import ViTForImageClassification, ViTImageProcessor\n",
    "\n",
    "# Chemin de sauvegarde\n",
    "save_path = \"saved_models/vit_finetuned_hf\"\n",
    "\n",
    "# Sauvegarde du modèle complet\n",
    "model.save_pretrained(save_path)\n",
    "\n",
    "# Sauvegarde du processor\n",
    "processor.save_pretrained(save_path)\n",
    "\n",
    "print(f\"Modèle et processor sauvegardés dans : {save_path}\")"
   ]
  },
  {
   "cell_type": "markdown",
   "metadata": {},
   "source": [
    "## QUANTIZATION"
   ]
  },
  {
   "cell_type": "markdown",
   "metadata": {},
   "source": []
  },
  {
   "cell_type": "code",
   "execution_count": 7,
   "metadata": {},
   "outputs": [
    {
     "name": "stdout",
     "output_type": "stream",
     "text": [
      "Files already downloaded and verified\n"
     ]
    },
    {
     "name": "stderr",
     "output_type": "stream",
     "text": [
      "Some weights of ViTForImageClassification were not initialized from the model checkpoint at saved_models/vit_finetuned_hf and are newly initialized because the shapes did not match:\n",
      "- classifier.bias: found shape torch.Size([10]) in the checkpoint and torch.Size([1000]) in the model instantiated\n",
      "- classifier.weight: found shape torch.Size([10, 768]) in the checkpoint and torch.Size([1000, 768]) in the model instantiated\n",
      "You should probably TRAIN this model on a down-stream task to be able to use it for predictions and inference.\n",
      "Évaluation: 100%|████████████████████████████████████████████████████████████████████████████████████████████████████████████████████████████████████| 313/313 [02:45<00:00,  1.89it/s]"
     ]
    },
    {
     "name": "stdout",
     "output_type": "stream",
     "text": [
      "\n",
      "Statistiques du modèle quantifié :\n",
      "Taille mémoire du modèle : 88.53 MB\n",
      "Accuracy sur CIFAR-10 : 6.83%\n",
      "Temps moyen d'inférence par batch : 516.01 ms\n"
     ]
    },
    {
     "name": "stderr",
     "output_type": "stream",
     "text": [
      "\n"
     ]
    }
   ],
   "source": [
    "import torch\n",
    "import time\n",
    "import io\n",
    "from torchvision import datasets, transforms\n",
    "from torch.utils.data import DataLoader\n",
    "from transformers import ViTImageProcessor, ViTForImageClassification\n",
    "from tqdm import tqdm\n",
    "\n",
    "# -------------------------------\n",
    "# Fonction : taille mémoire du modèle\n",
    "# -------------------------------\n",
    "def get_model_size_in_memory(model):\n",
    "    buffer = io.BytesIO()\n",
    "    torch.save(model.state_dict(), buffer)\n",
    "    return buffer.getbuffer().nbytes / 1e6  # en MB\n",
    "\n",
    "# -------------------------------\n",
    "# Fonction d’évaluation\n",
    "# -------------------------------\n",
    "def evaluate(model, processor, dataloader, device):\n",
    "    model.eval()\n",
    "    correct = 0\n",
    "    total = 0\n",
    "    inference_times = []\n",
    "\n",
    "    with torch.no_grad():\n",
    "        for images, labels in tqdm(dataloader, desc=\"Évaluation\"):\n",
    "            start = time.time()\n",
    "\n",
    "            inputs = processor(images=images, return_tensors=\"pt\").to(device)\n",
    "            labels = labels.to(device)\n",
    "\n",
    "            outputs = model(**inputs)\n",
    "            preds = outputs.logits.argmax(dim=1)\n",
    "\n",
    "            inference_times.append(time.time() - start)\n",
    "            correct += (preds == labels).sum().item()\n",
    "            total += labels.size(0)\n",
    "\n",
    "    acc = 100 * correct / total\n",
    "    avg_inf_time = sum(inference_times) / len(inference_times)\n",
    "    return acc, avg_inf_time\n",
    "\n",
    "# -------------------------------\n",
    "# Dataset CIFAR-10\n",
    "# -------------------------------\n",
    "processor = ViTImageProcessor.from_pretrained(\"google/vit-base-patch16-224\")\n",
    "transform = transforms.Resize((224, 224))\n",
    "test_dataset = datasets.CIFAR10(root='./data', train=False, download=True, transform=transform)\n",
    "\n",
    "def custom_collate_fn(batch):\n",
    "    images, labels = zip(*batch)\n",
    "    return list(images), torch.tensor(labels)\n",
    "\n",
    "test_loader = DataLoader(test_dataset, batch_size=32, shuffle=False, collate_fn=custom_collate_fn)\n",
    "\n",
    "# -------------------------------\n",
    "# Recharger le modèle fine-tuné\n",
    "# -------------------------------\n",
    "model_path = \"saved_models/vit_finetuned_hf\"\n",
    "\n",
    "model = ViTForImageClassification.from_pretrained(\n",
    "    model_path,\n",
    "    ignore_mismatched_sizes=True\n",
    ")\n",
    "model.classifier = torch.nn.Linear(model.config.hidden_size, 10)\n",
    "\n",
    "# -------------------------------\n",
    "# Quantization dynamique propre\n",
    "# -------------------------------\n",
    "quantized_model = torch.quantization.quantize_dynamic(\n",
    "    model, {torch.nn.Linear}, dtype=torch.qint8\n",
    ")\n",
    "\n",
    "# -------------------------------\n",
    "# Évaluation sur CPU\n",
    "# -------------------------------\n",
    "device = torch.device(\"cpu\")\n",
    "quantized_model.to(device)\n",
    "\n",
    "quantized_size = get_model_size_in_memory(quantized_model)\n",
    "q_acc, q_time = evaluate(quantized_model, processor, test_loader, device)\n",
    "\n",
    "# -------------------------------\n",
    "# Affichage des résultats\n",
    "# -------------------------------\n",
    "print(\"\\nStatistiques du modèle quantifié :\")\n",
    "print(f\"Taille mémoire du modèle : {quantized_size:.2f} MB\")\n",
    "print(f\"Accuracy sur CIFAR-10 : {q_acc:.2f}%\")\n",
    "print(f\"Temps moyen d'inférence par batch : {q_time*1000:.2f} ms\")\n"
   ]
  },
  {
   "cell_type": "markdown",
   "metadata": {},
   "source": [
    "## PRUNING"
   ]
  },
  {
   "cell_type": "code",
   "execution_count": 8,
   "metadata": {},
   "outputs": [
    {
     "name": "stdout",
     "output_type": "stream",
     "text": [
      "Files already downloaded and verified\n",
      "\n",
      "==> Pruning 10%\n"
     ]
    },
    {
     "name": "stderr",
     "output_type": "stream",
     "text": [
      "                                                                                                                                                                                       \r"
     ]
    },
    {
     "name": "stdout",
     "output_type": "stream",
     "text": [
      "\n",
      "==> Pruning 30%\n"
     ]
    },
    {
     "name": "stderr",
     "output_type": "stream",
     "text": [
      "                                                                                                                                                                                       \r"
     ]
    },
    {
     "name": "stdout",
     "output_type": "stream",
     "text": [
      "\n",
      "==> Pruning 50%\n"
     ]
    },
    {
     "name": "stderr",
     "output_type": "stream",
     "text": [
      "                                                                                                                                                                                       \r"
     ]
    },
    {
     "name": "stdout",
     "output_type": "stream",
     "text": [
      "\n",
      "==> Pruning 70%\n"
     ]
    },
    {
     "name": "stderr",
     "output_type": "stream",
     "text": [
      "                                                                                                                                                                                       \r"
     ]
    },
    {
     "name": "stdout",
     "output_type": "stream",
     "text": [
      "\n",
      "==> Pruning 90%\n"
     ]
    },
    {
     "name": "stderr",
     "output_type": "stream",
     "text": [
      "                                                                                                                                                                                       "
     ]
    },
    {
     "name": "stdout",
     "output_type": "stream",
     "text": [
      "\n",
      "Résumé des modèles prunés :\n",
      "Pruning    Sparsity   Taille (MB)    Accuracy   Inférence (ms) \n",
      "10%        10.00%     683.10         7.45%      517.92         \n",
      "30%        30.00%     683.10         6.80%      508.70         \n",
      "50%        50.00%     683.10         10.00%     519.60         \n",
      "70%        70.00%     683.10         10.00%     504.56         \n",
      "90%        90.00%     683.10         10.00%     506.01         \n"
     ]
    },
    {
     "name": "stderr",
     "output_type": "stream",
     "text": [
      "\r"
     ]
    }
   ],
   "source": [
    "import torch\n",
    "import torch.nn.utils.prune as prune\n",
    "import time\n",
    "import io\n",
    "from torchvision import datasets, transforms\n",
    "from torch.utils.data import DataLoader\n",
    "from transformers import ViTImageProcessor\n",
    "from tqdm import tqdm\n",
    "from copy import deepcopy\n",
    "\n",
    "# ------------------------------\n",
    "# Fonction : taille en mémoire du modèle\n",
    "# ------------------------------\n",
    "def get_model_size_in_memory(model):\n",
    "    buffer = io.BytesIO()\n",
    "    torch.save(model.state_dict(), buffer)\n",
    "    size_mb = buffer.getbuffer().nbytes / 1e6\n",
    "    return size_mb\n",
    "\n",
    "# ------------------------------\n",
    "# Fonction d'évaluation\n",
    "# ------------------------------\n",
    "def evaluate(model, processor, dataloader, device):\n",
    "    model.eval()\n",
    "    correct = 0\n",
    "    total = 0\n",
    "    inference_times = []\n",
    "\n",
    "    with torch.no_grad():\n",
    "        for images, labels in tqdm(dataloader, desc=\"Évaluation\", leave=False):\n",
    "            start = time.time()\n",
    "\n",
    "            inputs = processor(images=images, return_tensors=\"pt\").to(device)\n",
    "            labels = labels.to(device)\n",
    "\n",
    "            outputs = model(**inputs)\n",
    "            preds = outputs.logits.argmax(dim=1)\n",
    "\n",
    "            inference_times.append(time.time() - start)\n",
    "            correct += (preds == labels).sum().item()\n",
    "            total += labels.size(0)\n",
    "\n",
    "    accuracy = 100 * correct / total\n",
    "    avg_inference_time = sum(inference_times) / len(inference_times)\n",
    "    return accuracy, avg_inference_time\n",
    "\n",
    "# ------------------------------\n",
    "# Fonction de pruning global\n",
    "# ------------------------------\n",
    "def apply_global_pruning(model, amount):\n",
    "    parameters_to_prune = []\n",
    "    for module in model.modules():\n",
    "        if isinstance(module, torch.nn.Linear):\n",
    "            parameters_to_prune.append((module, 'weight'))\n",
    "    prune.global_unstructured(\n",
    "        parameters_to_prune,\n",
    "        pruning_method=prune.L1Unstructured,\n",
    "        amount=amount,\n",
    "    )\n",
    "    return model\n",
    "\n",
    "# ------------------------------\n",
    "# Calcul de la sparsité\n",
    "# ------------------------------\n",
    "def compute_sparsity(model):\n",
    "    total_zeros = 0\n",
    "    total_params = 0\n",
    "    for module in model.modules():\n",
    "        if isinstance(module, torch.nn.Linear):\n",
    "            w = module.weight\n",
    "            total_zeros += torch.sum(w == 0).item()\n",
    "            total_params += w.numel()\n",
    "    sparsity = 100.0 * total_zeros / total_params if total_params > 0 else 0.0\n",
    "    return sparsity\n",
    "\n",
    "# ------------------------------\n",
    "# Préparation dataset\n",
    "# ------------------------------\n",
    "processor = ViTImageProcessor.from_pretrained(\"google/vit-base-patch16-224\")\n",
    "transform = transforms.Resize((224, 224))\n",
    "test_dataset = datasets.CIFAR10(root='./data', train=False, download=True, transform=transform)\n",
    "\n",
    "def custom_collate_fn(batch):\n",
    "    images, labels = zip(*batch)\n",
    "    return list(images), torch.tensor(labels)\n",
    "\n",
    "test_loader = DataLoader(test_dataset, batch_size=32, shuffle=False, collate_fn=custom_collate_fn)\n",
    "\n",
    "# ------------------------------\n",
    "# Ton modèle `model` doit déjà exister en mémoire (fine-tuné)\n",
    "# ------------------------------\n",
    "assert 'model' in globals(), \"Le modèle `model` doit être défini en mémoire avant ce script.\"\n",
    "\n",
    "device = torch.device(\"cpu\")\n",
    "pruning_levels = [0.1, 0.3, 0.5, 0.7, 0.9]\n",
    "\n",
    "results = []\n",
    "\n",
    "for amount in pruning_levels:\n",
    "    print(f\"\\n==> Pruning {int(amount * 100)}%\")\n",
    "\n",
    "    pruned_model = deepcopy(model)\n",
    "    pruned_model = apply_global_pruning(pruned_model, amount)\n",
    "    pruned_model.to(device)\n",
    "\n",
    "    sparsity = compute_sparsity(pruned_model)\n",
    "    size_mb = get_model_size_in_memory(pruned_model)\n",
    "    acc, inf_time = evaluate(pruned_model, processor, test_loader, device)\n",
    "\n",
    "    results.append({\n",
    "        \"pruning\": f\"{int(amount * 100)}%\",\n",
    "        \"sparsity\": f\"{sparsity:.2f}%\",\n",
    "        \"size_mb\": f\"{size_mb:.2f}\",\n",
    "        \"accuracy\": f\"{acc:.2f}%\",\n",
    "        \"inference_time_ms\": f\"{inf_time * 1000:.2f}\"\n",
    "    })\n",
    "\n",
    "# ------------------------------\n",
    "# Résumé final\n",
    "# ------------------------------\n",
    "print(\"\\nRésumé des modèles prunés :\")\n",
    "print(f\"{'Pruning':<10} {'Sparsity':<10} {'Taille (MB)':<14} {'Accuracy':<10} {'Inférence (ms)':<15}\")\n",
    "for r in results:\n",
    "    print(f\"{r['pruning']:<10} {r['sparsity']:<10} {r['size_mb']:<14} {r['accuracy']:<10} {r['inference_time_ms']:<15}\")\n"
   ]
  }
 ],
 "metadata": {
  "kernelspec": {
   "display_name": "mypython",
   "language": "python",
   "name": "mypython"
  },
  "language_info": {
   "codemirror_mode": {
    "name": "ipython",
    "version": 3
   },
   "file_extension": ".py",
   "mimetype": "text/x-python",
   "name": "python",
   "nbconvert_exporter": "python",
   "pygments_lexer": "ipython3",
   "version": "3.10.8"
  }
 },
 "nbformat": 4,
 "nbformat_minor": 2
}
